{
  "nbformat": 4,
  "nbformat_minor": 0,
  "metadata": {
    "colab": {
      "name": "Unit 2: Simple Programs / Simple Algorithms.ipynb",
      "provenance": [],
      "collapsed_sections": [],
      "authorship_tag": "ABX9TyO82N8VG9Xa//Uy+sl2Kd3G",
      "include_colab_link": true
    },
    "kernelspec": {
      "name": "python3",
      "display_name": "Python 3"
    },
    "language_info": {
      "name": "python"
    }
  },
  "cells": [
    {
      "cell_type": "markdown",
      "metadata": {
        "id": "view-in-github",
        "colab_type": "text"
      },
      "source": [
        "<a href=\"https://colab.research.google.com/github/MarjorieRomero/Python-exercises/blob/main/Unit_2_Simple_Programs_Simple_Algorithms.ipynb\" target=\"_parent\"><img src=\"https://colab.research.google.com/assets/colab-badge.svg\" alt=\"Open In Colab\"/></a>"
      ]
    },
    {
      "cell_type": "code",
      "execution_count": null,
      "metadata": {
        "id": "NKAZOthtpc7i",
        "colab": {
          "base_uri": "https://localhost:8080/",
          "height": 130
        },
        "outputId": "15b3b800-0260-429c-e723-3c0c75debf1f"
      },
      "outputs": [
        {
          "output_type": "error",
          "ename": "SyntaxError",
          "evalue": "ignored",
          "traceback": [
            "\u001b[0;36m  File \u001b[0;32m\"<ipython-input-1-6d9cef7ca1ec>\"\u001b[0;36m, line \u001b[0;32m6\u001b[0m\n\u001b[0;31m    \u001b[0m\n\u001b[0m    ^\u001b[0m\n\u001b[0;31mSyntaxError\u001b[0m\u001b[0;31m:\u001b[0m unexpected EOF while parsing\n"
          ]
        }
      ],
      "source": [
        "print('Please think of a number between 0 and 100!')\n",
        "print('Is your secret number 50?')\n",
        "ask = input(\"Enter 'h' to indicate the guess is too high. Enter 'l' to indicate the guess is too low. Enter 'c' to indicate I guessed correctly. \")\n",
        "print(ask)\n",
        "if ask != 'h' or 'l' or 'c':\n",
        "  print('Sorry, I did not understand your input.')\n",
        "if ask == 'l':\n",
        "  print('Is your secret number 75?')\n",
        "  print(ask)\n",
        "  if ask == 'l':\n",
        "    print('Is your secret number 87?')\n",
        "    print(ask)\n",
        "    if ask == 'l':\n",
        "      print('Is your secret number 93?')\n",
        "      print(ask)\n",
        "    if ask == 'h':\n",
        "      print('Is your secret number 81?')\n",
        "      print(ask)\n",
        "  if ask == 'h':\n",
        "    print('Is your secret number 63?')\n",
        "    print(ask) \n",
        "    if ask == 'l':\n",
        "      print('Is your secret number 69?')\n",
        "      print(ask)\n",
        "      if ask == 'l':\n",
        "      print('Is your secret number 69?')\n",
        "      print(ask)\n",
        "      if ask == 'h':\n",
        "      print('Is your secret number 69?')\n",
        "      print(ask)\n",
        "    if ask == 'h':\n",
        "      print('Is your secret number 56?')\n",
        "      print(ask) \n",
        "if ask == 'h':\n",
        "  print('Is your secret number 25?')\n",
        "  print(ask)\n",
        "  if ask == 'l':\n",
        "    print('Is your secret number 37?')\n",
        "    print(ask)\n",
        "    if ask == 'l':\n",
        "      print('Is your secret number 43?')\n",
        "      print(ask)\n",
        "    if ask == 'h':\n",
        "      print('Is your secret number 37?')\n",
        "      print(ask)\n",
        "  if ask == 'h':\n",
        "    print('Is your secret number 13?')\n",
        "    print(ask) \n",
        "if ask == 'c':\n",
        "  print('Game over. Your secret number was: 50')\n",
        "\n",
        "\n",
        "# I am curious to learn how to change the code if the guess is between 0 - 1000 instead of 0 - 100\n"
      ]
    }
  ]
}